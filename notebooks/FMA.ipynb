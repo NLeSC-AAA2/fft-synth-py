{
 "cells": [
  {
   "cell_type": "code",
   "execution_count": 31,
   "id": "expensive-front",
   "metadata": {},
   "outputs": [],
   "source": [
    "from fftsynth import twiddle, parity\n",
    "from fftsynth.twiddle import make_twiddle\n",
    "import numpy as np"
   ]
  },
  {
   "cell_type": "code",
   "execution_count": 32,
   "id": "stupid-tracker",
   "metadata": {},
   "outputs": [],
   "source": [
    "ps = parity.ParitySplitting(64, 4)"
   ]
  },
  {
   "cell_type": "code",
   "execution_count": 33,
   "id": "determined-discount",
   "metadata": {},
   "outputs": [],
   "source": [
    "def fft4_fma(x0, x1, x2, x3, w0=1, w1=1):\n",
    "    a = x0; b = x2; c = x1; d = x3\n",
    "    b = a - w1*b\n",
    "    a = 2*a - b\n",
    "    d = c - w1*d\n",
    "    c = 2*c - d\n",
    "    \n",
    "    c = a - w0*c\n",
    "    d = b - 1j*w0*d\n",
    "    \n",
    "    return 2*a - c, d, c, 2*b - d\n",
    "\n",
    "\n",
    "def fft4(x0, x1, x2, x3, w0=1, w1=1):\n",
    "    x0[:], x1[:], x2[:], x3[:] = fft4_fma(x0, x1, x2, x3, w0, w1)"
   ]
  },
  {
   "cell_type": "code",
   "execution_count": 34,
   "id": "entertaining-marina",
   "metadata": {},
   "outputs": [],
   "source": [
    "from numpy import fft"
   ]
  },
  {
   "cell_type": "code",
   "execution_count": 35,
   "id": "thermal-soccer",
   "metadata": {},
   "outputs": [
    {
     "data": {
      "text/plain": [
       "array([10.+0.j, -2.+2.j, -2.+0.j, -2.-2.j])"
      ]
     },
     "execution_count": 35,
     "metadata": {},
     "output_type": "execute_result"
    }
   ],
   "source": [
    "fft.fft([1,2,3,4])"
   ]
  },
  {
   "cell_type": "code",
   "execution_count": 36,
   "id": "latin-basement",
   "metadata": {},
   "outputs": [
    {
     "data": {
      "text/plain": [
       "(10, (-2+2j), -2, (-2-2j))"
      ]
     },
     "execution_count": 36,
     "metadata": {},
     "output_type": "execute_result"
    }
   ],
   "source": [
    "fft4_fma(1, 2, 3, 4)"
   ]
  },
  {
   "cell_type": "code",
   "execution_count": 38,
   "id": "fallen-custom",
   "metadata": {},
   "outputs": [],
   "source": [
    "N = 64\n",
    "factors = [4, 4, 4]\n",
    "x = np.arange(0, N, dtype='complex64')\n",
    "s = x.copy().reshape(factors).transpose()\n",
    "\n",
    "fft4(*(s[...,k] for k in range(4)))\n",
    "\n",
    "for k in range(1, len(factors)):\n",
    "    w = make_twiddle(4, 4**k).conj()\n",
    "    z = s.reshape([-1, 4, 4**k])\n",
    "    z *= w\n",
    "    fft4(*(z[..., l, :] for l in range(4)))\n",
    "    s = z"
   ]
  },
  {
   "cell_type": "code",
   "execution_count": 39,
   "id": "acoustic-amateur",
   "metadata": {},
   "outputs": [
    {
     "data": {
      "text/plain": [
       "array([[[2016.        +0.j       ,  -32.      +651.37494j  ,\n",
       "          -31.999992+324.90146j  ,  -31.999996+215.72649j  ,\n",
       "          -32.      +160.87486j  ,  -32.      +127.75117j  ,\n",
       "          -32.000004+105.48986j  ,  -32.00002  +89.434j    ,\n",
       "          -32.       +77.25484j  ,  -31.99998  +67.65832j  ,\n",
       "          -32.       +59.867786j ,  -32.       +53.38877j  ,\n",
       "          -32.       +47.891388j ,  -32.       +43.147003j ,\n",
       "          -32.       +38.992126j ,  -32.       +35.306534j ],\n",
       "        [ -32.       +32.j       ,  -32.       +29.003113j ,\n",
       "          -32.       +26.261726j ,  -32.000004 +23.732819j ,\n",
       "          -32.       +21.381718j ,  -31.999996 +19.180061j ,\n",
       "          -32.       +17.104351j ,  -32.       +15.134865j ,\n",
       "          -32.       +13.254833j ,  -31.999998 +11.449791j ,\n",
       "          -31.999998  +9.707092j ,  -31.999994  +8.015587j ,\n",
       "          -32.        +6.3651886j,  -31.999996  +4.74675j  ,\n",
       "          -32.000004  +3.151703j ,  -31.999996  +1.5720825j],\n",
       "        [ -32.        +0.j       ,  -32.        -1.5720825j,\n",
       "          -32.000008  -3.151703j ,  -31.999996  -4.74675j  ,\n",
       "          -32.        -6.3651886j,  -32.        -8.015587j ,\n",
       "          -31.999996  -9.707092j ,  -31.999996 -11.449791j ,\n",
       "          -32.       -13.254833j ,  -32.000004 -15.134865j ,\n",
       "          -32.       -17.104351j ,  -32.       -19.180061j ,\n",
       "          -32.       -21.381714j ,  -32.       -23.732819j ,\n",
       "          -32.       -26.261719j ,  -32.       -29.003128j ],\n",
       "        [ -32.       -32.j       ,  -32.       -35.30655j  ,\n",
       "          -32.       -38.99212j  ,  -32.000004 -43.147003j ,\n",
       "          -32.       -47.891384j ,  -32.000004 -53.38877j  ,\n",
       "          -32.       -59.867786j ,  -31.999985 -67.65832j  ,\n",
       "          -32.       -77.25484j  ,  -32.000015 -89.434j    ,\n",
       "          -32.      -105.48986j  ,  -32.000008-127.75115j  ,\n",
       "          -32.      -160.87486j  ,  -32.000004-215.72647j  ,\n",
       "          -31.999992-324.90146j  ,  -32.      -651.37494j  ]]],\n",
       "      dtype=complex64)"
      ]
     },
     "execution_count": 39,
     "metadata": {},
     "output_type": "execute_result"
    }
   ],
   "source": [
    "s"
   ]
  },
  {
   "cell_type": "code",
   "execution_count": null,
   "id": "rural-beijing",
   "metadata": {},
   "outputs": [],
   "source": []
  }
 ],
 "metadata": {
  "kernelspec": {
   "display_name": "Python 3",
   "language": "python",
   "name": "python3"
  },
  "language_info": {
   "codemirror_mode": {
    "name": "ipython",
    "version": 3
   },
   "file_extension": ".py",
   "mimetype": "text/x-python",
   "name": "python",
   "nbconvert_exporter": "python",
   "pygments_lexer": "ipython3",
   "version": "3.9.1"
  }
 },
 "nbformat": 4,
 "nbformat_minor": 5
}
